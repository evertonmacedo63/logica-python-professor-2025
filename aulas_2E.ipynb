{
  "nbformat": 4,
  "nbformat_minor": 0,
  "metadata": {
    "colab": {
      "provenance": []
    },
    "kernelspec": {
      "name": "python3",
      "display_name": "Python 3"
    },
    "language_info": {
      "name": "python"
    }
  },
  "cells": [
    {
      "cell_type": "code",
      "execution_count": 3,
      "metadata": {
        "colab": {
          "base_uri": "https://localhost:8080/"
        },
        "id": "HgHrLCwjnmMT",
        "outputId": "7b87ed0f-a833-4513-b995-1e20b701f137"
      },
      "outputs": [
        {
          "output_type": "stream",
          "name": "stdout",
          "text": [
            "O valor da variável a, inicialmente é :  5\n",
            "O valor da soma (x + y) é :  17\n"
          ]
        }
      ],
      "source": [
        "a = 5\n",
        "print(\"O valor da variável a, inicialmente é : \", a)\n",
        "\n",
        "x = 10\n",
        "y = 7\n",
        "soma = x + y\n",
        "print(\"O valor da soma (x + y) é : \", soma)\n"
      ]
    },
    {
      "cell_type": "markdown",
      "source": [
        "<inicio>\n",
        "  o código desta lição (lesson_0_a) faz o seguinte:\n",
        "  atribui a variavel a o valor 5\n",
        "  imprime o valor da variavel acima atribuido\n",
        "  \n",
        "  em seguida atribui às variáveis x e y os valores 10 e 7; respectivamente.\n",
        "  então a variavel soma recebe o valor da soma de x com y\n",
        "  em seguida é impresso o valor da soma x com y\n",
        "<fim>\n"
      ],
      "metadata": {
        "id": "DDYab_DLo0wk"
      }
    },
    {
      "cell_type": "code",
      "source": [],
      "metadata": {
        "id": "fYkROlpKpAsn"
      },
      "execution_count": null,
      "outputs": []
    }
  ]
}